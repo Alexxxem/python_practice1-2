{
 "cells": [
  {
   "cell_type": "markdown",
   "id": "2eccb842",
   "metadata": {},
   "source": [
    "**1. Среднее**\n",
    "\n",
    "Дано: 3 случайных числа.\n",
    "\n",
    "Задание: написать программу, которая будет вычислять среднее значение этих чисел.\n",
    "\n",
    "Пример: (52 + 56 + 60) / 3 = 56"
   ]
  },
  {
   "cell_type": "code",
   "execution_count": 4,
   "id": "6e71fe76",
   "metadata": {},
   "outputs": [
    {
     "name": "stdout",
     "output_type": "stream",
     "text": [
      "[0, 82, 17]\n",
      "Average: 33.0\n",
      "\n"
     ]
    }
   ],
   "source": [
    "from random import randint\n",
    "\n",
    "\n",
    "# Average\n",
    "def average(nums):\n",
    "    print(nums)\n",
    "    print(f\"Average: {sum(nums)/len(nums)}\\n\")\n",
    "    \n",
    "    \n",
    "#Average\n",
    "nums = []\n",
    "for index in range(3):   # size = 3\n",
    "    nums.append(randint(0, 100))\n",
    "average(nums)"
   ]
  },
  {
   "cell_type": "markdown",
   "id": "9d6684a0",
   "metadata": {},
   "source": [
    "**2. Деление и еще раз деление**\n",
    "\n",
    "Дано: 2 случайных числа.\n",
    "\n",
    "Задание: написать программу, которая будет печать результат целочисленного деления этих чисел, а также остаток от деления первого от второго.\n",
    "\n",
    "Пример:\n",
    "\n",
    " x = 177 и y = 10\n",
    "\n",
    "Результат:\n",
    " 17, 7"
   ]
  },
  {
   "cell_type": "code",
   "execution_count": 3,
   "id": "65f7d409",
   "metadata": {},
   "outputs": [
    {
     "name": "stdout",
     "output_type": "stream",
     "text": [
      "Result of integer division: 16\n",
      "Result of division with remainder: 4\n",
      "\n"
     ]
    }
   ],
   "source": [
    "# Integer division, division with remainder\n",
    "def division(number1, number2):\n",
    "    print(f\"Result of integer division: {number1 // number2}\")\n",
    "    print(f\"Result of division with remainder: {number1 % number2}\\n\")\n",
    "    \n",
    "    \n",
    "#Division\n",
    "number1 = 180\n",
    "number2 = 11\n",
    "division(number1, number2)"
   ]
  },
  {
   "cell_type": "markdown",
   "id": "9878565d",
   "metadata": {},
   "source": [
    "**3. Округление**\n",
    "Дано: число с плавающей точкой.\n",
    "\n",
    "Задание: написать программу, которая будет округлять заданное число:\n",
    "- 2х знаков после запятой;\n",
    "- до целого; \n",
    "- дополнять слева столько нулей, сколько не хватает числу до 11 знаков."
   ]
  },
  {
   "cell_type": "code",
   "execution_count": 4,
   "id": "aa91eb71",
   "metadata": {},
   "outputs": [
    {
     "name": "stdout",
     "output_type": "stream",
     "text": [
      "Rounding to two decimal places: 14.72\n",
      "Rounding to integer: 15\n",
      "Zero padding on the left: 0000014.721\n",
      "\n"
     ]
    }
   ],
   "source": [
    "def rounding(number):\n",
    "    print(f\"Rounding to two decimal places: {round(number,2)}\")\n",
    "    print(f\"Rounding to integer: {round(number)}\")\n",
    "    print(f\"Zero padding on the left: {number:=011}\\n\")\n",
    "    \n",
    "    \n",
    "#Rounding\n",
    "number = 14.721\n",
    "rounding(number)"
   ]
  },
  {
   "cell_type": "markdown",
   "id": "e6784754",
   "metadata": {},
   "source": [
    "**[Junior+] 5. Число \"наоборот\" (усложненное)**\n",
    "\n",
    "Дано: целое число (int).\n",
    "\n",
    "Задание: написать программу, которая будет инвертировать целое число. Если инвертированное число выходит за границы (32-bit integer)"
   ]
  },
  {
   "cell_type": "code",
   "execution_count": 1,
   "id": "2bcad93f",
   "metadata": {},
   "outputs": [
    {
     "name": "stdout",
     "output_type": "stream",
     "text": [
      "Reverse number = 321\n",
      "Reverse number out of bounds (32-bit integer)!\n"
     ]
    }
   ],
   "source": [
    "def reverse_number(number):\n",
    "    rev_number = 0\n",
    "    while number > 0:\n",
    "        last_digit = number % 10\n",
    "        number //= 10\n",
    "        rev_number *= 10\n",
    "        rev_number += last_digit\n",
    "\n",
    "    if (rev_number.bit_length() / 8) < 4:  # if number < int64\n",
    "        print(f\"Reverse number = {rev_number}\")\n",
    "    else:\n",
    "        print(\"Reverse number out of bounds (32-bit integer)!\")\n",
    "        \n",
    "        \n",
    "# 4) Reverse number\n",
    "number1 = 123\n",
    "reverse_number(number1)\n",
    "number2 = 1563847412\n",
    "reverse_number(number2)"
   ]
  }
 ],
 "metadata": {
  "kernelspec": {
   "display_name": "Python 3 (ipykernel)",
   "language": "python",
   "name": "python3"
  },
  "language_info": {
   "codemirror_mode": {
    "name": "ipython",
    "version": 3
   },
   "file_extension": ".py",
   "mimetype": "text/x-python",
   "name": "python",
   "nbconvert_exporter": "python",
   "pygments_lexer": "ipython3",
   "version": "3.10.8"
  }
 },
 "nbformat": 4,
 "nbformat_minor": 5
}
