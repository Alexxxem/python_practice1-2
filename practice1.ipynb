{
 "cells": [
  {
   "cell_type": "markdown",
   "id": "f42c4994",
   "metadata": {},
   "source": [
    "**1. Welcome to Python**\n",
    "\n",
    "Дано: имя и фамилия.\n",
    "\n",
    "Задание: написать программу, которая будет приветствовать нового человека в мире Python. Текст приветсвия: Hello NAME SURNAME! You just delved into Python. Great start!\n",
    "\n",
    "Пример: Hello Ibrahim Petrov! You just delved into Python. Great start!"
   ]
  },
  {
   "cell_type": "code",
   "execution_count": 1,
   "id": "30cd246c",
   "metadata": {},
   "outputs": [
    {
     "name": "stdout",
     "output_type": "stream",
     "text": [
      "Hello Alexey Maltsev! You just delved into Python. Great start!\n"
     ]
    }
   ],
   "source": [
    "def welcome(name, surname):\n",
    "    print(f'Hello {name} {surname}! You just delved into Python. Great start!')\n",
    "    \n",
    "\n",
    "# Welcome to Python\n",
    "name = 'Alexey'\n",
    "surname = 'Maltsev'\n",
    "welcome(name, surname)"
   ]
  },
  {
   "cell_type": "markdown",
   "id": "a0f5ed3f",
   "metadata": {},
   "source": [
    "**2. Python art**\n",
    "\n",
    "Дано: маркер (символ) и толщина фигуры.\n",
    "\n",
    "Задание: написать программу, которая будет отображать заданную фигуру.\n",
    "\n",
    "Пример: Маркер = H, толщина 5."
   ]
  },
  {
   "cell_type": "code",
   "execution_count": 4,
   "id": "5cf58693",
   "metadata": {},
   "outputs": [
    {
     "name": "stdout",
     "output_type": "stream",
     "text": [
      "  H  \n",
      " HHH \n",
      "HHHHH\n",
      " HHH         HHH        \n",
      " HHH         HHH        \n",
      " HHH         HHH        \n",
      " HHH         HHH        \n",
      " HHHHHHHHHHHHHHH  \n",
      " HHHHHHHHHHHHHHH  \n",
      " HHH         HHH        \n",
      " HHH         HHH        \n",
      " HHH         HHH        \n",
      " HHH         HHH        \n",
      "            HHHHH \n",
      "             HHH  \n",
      "              H   \n"
     ]
    }
   ],
   "source": [
    "def python_art(thickness, marker):\n",
    "    # Top Cone\n",
    "    for i in range(thickness):\n",
    "        print((marker * i).rjust(thickness - 1) + marker + (marker * i).ljust(thickness - 1))\n",
    "\n",
    "    # Top Pillars\n",
    "    for i in range(thickness + 1):\n",
    "        print((marker * thickness).center(thickness * 2) + (marker * thickness).center(thickness * 6))\n",
    "\n",
    "    # Middle Belt\n",
    "    for i in range((thickness + 1) // 2):\n",
    "        print((marker * thickness * 5).center(thickness * 6))\n",
    "\n",
    "        # Bottom Pillars\n",
    "    for i in range(thickness + 1):\n",
    "        print((marker * thickness).center(thickness * 2) + (marker * thickness).center(thickness * 6))\n",
    "\n",
    "        # Bottom Cone\n",
    "    for i in range(thickness):\n",
    "        print(((marker * (thickness - i - 1)).rjust(thickness) + marker + (marker * (thickness - i - 1)).ljust(thickness)).rjust(\n",
    "            thickness * 6))\n",
    "        \n",
    "        \n",
    "# Python art\n",
    "thickness = 3\n",
    "marker = 'H'\n",
    "python_art(thickness, marker)"
   ]
  },
  {
   "cell_type": "markdown",
   "id": "3b9e89ca",
   "metadata": {},
   "source": [
    "**3. Заголовок**\n",
    "\n",
    "Дано: текст любой длины.\n",
    "\n",
    "Задание: написать программу, которая выведет заголовок, используя заданный текст. Подсказка используйте метод title.\n",
    "\n",
    "Пример: text = 'hello world'; результат = Hello World"
   ]
  },
  {
   "cell_type": "code",
   "execution_count": 5,
   "id": "bab4f6be",
   "metadata": {},
   "outputs": [
    {
     "name": "stdout",
     "output_type": "stream",
     "text": [
      "Hello World!\n"
     ]
    }
   ],
   "source": [
    "def header(text):\n",
    "    print(text.title())\n",
    "    \n",
    "# Title\n",
    "text = 'hello world!'\n",
    "header(text)"
   ]
  },
  {
   "cell_type": "markdown",
   "id": "26b0b289",
   "metadata": {},
   "source": [
    "**4. Форматированный вывод денежной суммы**\n",
    "\n",
    "Дано: денежная сумма (amount > 0).\n",
    "\n",
    "Задание: написать программу, которая распечатает число в принятом денежном формате XXX,XXX.XX.\n",
    "\n",
    "Пример: amount = 100500.157; результат = 100,500.16"
   ]
  },
  {
   "cell_type": "code",
   "execution_count": 6,
   "id": "629226e4",
   "metadata": {},
   "outputs": [
    {
     "name": "stdout",
     "output_type": "stream",
     "text": [
      "100,500.16\n"
     ]
    }
   ],
   "source": [
    "def cash_out(amount):\n",
    "    print('{0:,.2f}'.format(amount).replace(',', ','))\n",
    "    \n",
    "    \n",
    "# Formatted cash output\n",
    "amount = 100500.157\n",
    "cash_out(amount)"
   ]
  },
  {
   "cell_type": "markdown",
   "id": "238adf17",
   "metadata": {},
   "source": [
    "**5. Дизайнер ковриков**\n",
    "\n",
    "Дизайнер составил шаблон домашних ковриков. Для массового выпуска ковриков ему нужно уметь быстро составлять макет произвольного размера. Известно, что длина коврика всегда больше в 3 раза чем его ширина (W = 3 * H).\n",
    "\n",
    "Дано: ширина коврика.\n",
    "\n",
    "Задание: написать программу, которая будет составлять макет коврика для его дальнейшего производства."
   ]
  },
  {
   "cell_type": "code",
   "execution_count": 7,
   "id": "1a7685d1",
   "metadata": {},
   "outputs": [
    {
     "name": "stdout",
     "output_type": "stream",
     "text": [
      "-------------|||--------------\n",
      "----------|||||||||-----------\n",
      "-------|||||||||||||||--------\n",
      "----|||||||||||||||||||||-----\n",
      "-|||||||||||||||||||||||||||--\n",
      "***********WELCOME************\n",
      "---||||||||||||||||||||||||---\n",
      "------||||||||||||||||||------\n",
      "---------||||||||||||---------\n",
      "------------||||||------------\n"
     ]
    }
   ],
   "source": [
    "def rug_designer(height):\n",
    "\n",
    "    width = height * 3\n",
    "\n",
    "    for stick_count in range(1, height, 2):\n",
    "        print(('|||' * stick_count).center(width, '-'))\n",
    "\n",
    "    print('WELCOME'.center(width, '*'))\n",
    "\n",
    "    for stick_count in range(height - 2, 0, -2):\n",
    "        print(('|||' * stick_count).center(width, '-'))\n",
    "        \n",
    "        \n",
    "# Rug designer\n",
    "height = 10\n",
    "rug_designer(height)"
   ]
  },
  {
   "cell_type": "markdown",
   "id": "ae13a9a6",
   "metadata": {},
   "source": [
    "**[Junior+] 6. Произведение цифр**\n",
    "\n",
    "Дано: целое число.\n",
    "\n",
    "Задание: написать программу, которая перемножит все цифры заданного числа (0 - исключить)."
   ]
  },
  {
   "cell_type": "code",
   "execution_count": 1,
   "id": "b0755deb",
   "metadata": {
    "scrolled": true
   },
   "outputs": [
    {
     "name": "stdout",
     "output_type": "stream",
     "text": [
      "Product of digits = 120\n"
     ]
    }
   ],
   "source": [
    "def product_of_digits(value):\n",
    "    product = 1\n",
    "    while value > 0:\n",
    "        last_digit = value % 10\n",
    "        if last_digit != 0:\n",
    "            product *= last_digit\n",
    "            value //= 10\n",
    "        else:\n",
    "            value //= 10\n",
    "    print(f\"Product of digits = {product}\")\n",
    "    \n",
    "    \n",
    "# Product of digits\n",
    "value = 1203405\n",
    "product_of_digits(value)"
   ]
  }
 ],
 "metadata": {
  "kernelspec": {
   "display_name": "Python 3 (ipykernel)",
   "language": "python",
   "name": "python3"
  },
  "language_info": {
   "codemirror_mode": {
    "name": "ipython",
    "version": 3
   },
   "file_extension": ".py",
   "mimetype": "text/x-python",
   "name": "python",
   "nbconvert_exporter": "python",
   "pygments_lexer": "ipython3",
   "version": "3.10.8"
  }
 },
 "nbformat": 4,
 "nbformat_minor": 5
}
